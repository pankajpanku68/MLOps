{
  "nbformat": 4,
  "nbformat_minor": 0,
  "metadata": {
    "colab": {
      "name": "Used Car Price App.ipynb",
      "provenance": [],
      "collapsed_sections": []
    },
    "kernelspec": {
      "display_name": "Python 3",
      "name": "python3"
    },
    "language_info": {
      "name": "python"
    }
  },
  "cells": [
    {
      "cell_type": "markdown",
      "metadata": {
        "id": "nYwB7sRgOE7b"
      },
      "source": [
        "# Creating a web app to deploy the model"
      ]
    },
    {
      "cell_type": "code",
      "metadata": {
        "colab": {
          "base_uri": "https://localhost:8080/"
        },
        "id": "12K9TCJCJ3GE",
        "outputId": "feafbbc1-1311-4198-983e-ef38c7246532"
      },
      "source": [
        "!pip install wandb\n",
        "!pip install onnxruntime\n",
        "!pip install -q gradio "
      ],
      "execution_count": 1,
      "outputs": [
        {
          "output_type": "stream",
          "name": "stdout",
          "text": [
            "Collecting wandb\n",
            "  Downloading wandb-0.12.5-py2.py3-none-any.whl (1.7 MB)\n",
            "\u001b[?25l\r\u001b[K     |▏                               | 10 kB 19.4 MB/s eta 0:00:01\r\u001b[K     |▍                               | 20 kB 24.0 MB/s eta 0:00:01\r\u001b[K     |▋                               | 30 kB 20.4 MB/s eta 0:00:01\r\u001b[K     |▉                               | 40 kB 17.2 MB/s eta 0:00:01\r\u001b[K     |█                               | 51 kB 7.4 MB/s eta 0:00:01\r\u001b[K     |█▏                              | 61 kB 8.5 MB/s eta 0:00:01\r\u001b[K     |█▍                              | 71 kB 7.8 MB/s eta 0:00:01\r\u001b[K     |█▋                              | 81 kB 8.7 MB/s eta 0:00:01\r\u001b[K     |█▊                              | 92 kB 9.4 MB/s eta 0:00:01\r\u001b[K     |██                              | 102 kB 7.1 MB/s eta 0:00:01\r\u001b[K     |██▏                             | 112 kB 7.1 MB/s eta 0:00:01\r\u001b[K     |██▍                             | 122 kB 7.1 MB/s eta 0:00:01\r\u001b[K     |██▌                             | 133 kB 7.1 MB/s eta 0:00:01\r\u001b[K     |██▊                             | 143 kB 7.1 MB/s eta 0:00:01\r\u001b[K     |███                             | 153 kB 7.1 MB/s eta 0:00:01\r\u001b[K     |███▏                            | 163 kB 7.1 MB/s eta 0:00:01\r\u001b[K     |███▎                            | 174 kB 7.1 MB/s eta 0:00:01\r\u001b[K     |███▌                            | 184 kB 7.1 MB/s eta 0:00:01\r\u001b[K     |███▊                            | 194 kB 7.1 MB/s eta 0:00:01\r\u001b[K     |████                            | 204 kB 7.1 MB/s eta 0:00:01\r\u001b[K     |████                            | 215 kB 7.1 MB/s eta 0:00:01\r\u001b[K     |████▎                           | 225 kB 7.1 MB/s eta 0:00:01\r\u001b[K     |████▌                           | 235 kB 7.1 MB/s eta 0:00:01\r\u001b[K     |████▊                           | 245 kB 7.1 MB/s eta 0:00:01\r\u001b[K     |████▉                           | 256 kB 7.1 MB/s eta 0:00:01\r\u001b[K     |█████                           | 266 kB 7.1 MB/s eta 0:00:01\r\u001b[K     |█████▎                          | 276 kB 7.1 MB/s eta 0:00:01\r\u001b[K     |█████▌                          | 286 kB 7.1 MB/s eta 0:00:01\r\u001b[K     |█████▋                          | 296 kB 7.1 MB/s eta 0:00:01\r\u001b[K     |█████▉                          | 307 kB 7.1 MB/s eta 0:00:01\r\u001b[K     |██████                          | 317 kB 7.1 MB/s eta 0:00:01\r\u001b[K     |██████▎                         | 327 kB 7.1 MB/s eta 0:00:01\r\u001b[K     |██████▍                         | 337 kB 7.1 MB/s eta 0:00:01\r\u001b[K     |██████▋                         | 348 kB 7.1 MB/s eta 0:00:01\r\u001b[K     |██████▉                         | 358 kB 7.1 MB/s eta 0:00:01\r\u001b[K     |███████                         | 368 kB 7.1 MB/s eta 0:00:01\r\u001b[K     |███████▏                        | 378 kB 7.1 MB/s eta 0:00:01\r\u001b[K     |███████▍                        | 389 kB 7.1 MB/s eta 0:00:01\r\u001b[K     |███████▋                        | 399 kB 7.1 MB/s eta 0:00:01\r\u001b[K     |███████▉                        | 409 kB 7.1 MB/s eta 0:00:01\r\u001b[K     |████████                        | 419 kB 7.1 MB/s eta 0:00:01\r\u001b[K     |████████▏                       | 430 kB 7.1 MB/s eta 0:00:01\r\u001b[K     |████████▍                       | 440 kB 7.1 MB/s eta 0:00:01\r\u001b[K     |████████▋                       | 450 kB 7.1 MB/s eta 0:00:01\r\u001b[K     |████████▊                       | 460 kB 7.1 MB/s eta 0:00:01\r\u001b[K     |█████████                       | 471 kB 7.1 MB/s eta 0:00:01\r\u001b[K     |█████████▏                      | 481 kB 7.1 MB/s eta 0:00:01\r\u001b[K     |█████████▍                      | 491 kB 7.1 MB/s eta 0:00:01\r\u001b[K     |█████████▌                      | 501 kB 7.1 MB/s eta 0:00:01\r\u001b[K     |█████████▊                      | 512 kB 7.1 MB/s eta 0:00:01\r\u001b[K     |██████████                      | 522 kB 7.1 MB/s eta 0:00:01\r\u001b[K     |██████████▏                     | 532 kB 7.1 MB/s eta 0:00:01\r\u001b[K     |██████████▎                     | 542 kB 7.1 MB/s eta 0:00:01\r\u001b[K     |██████████▌                     | 552 kB 7.1 MB/s eta 0:00:01\r\u001b[K     |██████████▊                     | 563 kB 7.1 MB/s eta 0:00:01\r\u001b[K     |███████████                     | 573 kB 7.1 MB/s eta 0:00:01\r\u001b[K     |███████████                     | 583 kB 7.1 MB/s eta 0:00:01\r\u001b[K     |███████████▎                    | 593 kB 7.1 MB/s eta 0:00:01\r\u001b[K     |███████████▌                    | 604 kB 7.1 MB/s eta 0:00:01\r\u001b[K     |███████████▊                    | 614 kB 7.1 MB/s eta 0:00:01\r\u001b[K     |████████████                    | 624 kB 7.1 MB/s eta 0:00:01\r\u001b[K     |████████████                    | 634 kB 7.1 MB/s eta 0:00:01\r\u001b[K     |████████████▎                   | 645 kB 7.1 MB/s eta 0:00:01\r\u001b[K     |████████████▌                   | 655 kB 7.1 MB/s eta 0:00:01\r\u001b[K     |████████████▊                   | 665 kB 7.1 MB/s eta 0:00:01\r\u001b[K     |████████████▉                   | 675 kB 7.1 MB/s eta 0:00:01\r\u001b[K     |█████████████                   | 686 kB 7.1 MB/s eta 0:00:01\r\u001b[K     |█████████████▎                  | 696 kB 7.1 MB/s eta 0:00:01\r\u001b[K     |█████████████▌                  | 706 kB 7.1 MB/s eta 0:00:01\r\u001b[K     |█████████████▋                  | 716 kB 7.1 MB/s eta 0:00:01\r\u001b[K     |█████████████▉                  | 727 kB 7.1 MB/s eta 0:00:01\r\u001b[K     |██████████████                  | 737 kB 7.1 MB/s eta 0:00:01\r\u001b[K     |██████████████▎                 | 747 kB 7.1 MB/s eta 0:00:01\r\u001b[K     |██████████████▍                 | 757 kB 7.1 MB/s eta 0:00:01\r\u001b[K     |██████████████▋                 | 768 kB 7.1 MB/s eta 0:00:01\r\u001b[K     |██████████████▉                 | 778 kB 7.1 MB/s eta 0:00:01\r\u001b[K     |███████████████                 | 788 kB 7.1 MB/s eta 0:00:01\r\u001b[K     |███████████████▏                | 798 kB 7.1 MB/s eta 0:00:01\r\u001b[K     |███████████████▍                | 808 kB 7.1 MB/s eta 0:00:01\r\u001b[K     |███████████████▋                | 819 kB 7.1 MB/s eta 0:00:01\r\u001b[K     |███████████████▉                | 829 kB 7.1 MB/s eta 0:00:01\r\u001b[K     |████████████████                | 839 kB 7.1 MB/s eta 0:00:01\r\u001b[K     |████████████████▏               | 849 kB 7.1 MB/s eta 0:00:01\r\u001b[K     |████████████████▍               | 860 kB 7.1 MB/s eta 0:00:01\r\u001b[K     |████████████████▋               | 870 kB 7.1 MB/s eta 0:00:01\r\u001b[K     |████████████████▊               | 880 kB 7.1 MB/s eta 0:00:01\r\u001b[K     |█████████████████               | 890 kB 7.1 MB/s eta 0:00:01\r\u001b[K     |█████████████████▏              | 901 kB 7.1 MB/s eta 0:00:01\r\u001b[K     |█████████████████▍              | 911 kB 7.1 MB/s eta 0:00:01\r\u001b[K     |█████████████████▌              | 921 kB 7.1 MB/s eta 0:00:01\r\u001b[K     |█████████████████▊              | 931 kB 7.1 MB/s eta 0:00:01\r\u001b[K     |██████████████████              | 942 kB 7.1 MB/s eta 0:00:01\r\u001b[K     |██████████████████▏             | 952 kB 7.1 MB/s eta 0:00:01\r\u001b[K     |██████████████████▎             | 962 kB 7.1 MB/s eta 0:00:01\r\u001b[K     |██████████████████▌             | 972 kB 7.1 MB/s eta 0:00:01\r\u001b[K     |██████████████████▊             | 983 kB 7.1 MB/s eta 0:00:01\r\u001b[K     |███████████████████             | 993 kB 7.1 MB/s eta 0:00:01\r\u001b[K     |███████████████████             | 1.0 MB 7.1 MB/s eta 0:00:01\r\u001b[K     |███████████████████▎            | 1.0 MB 7.1 MB/s eta 0:00:01\r\u001b[K     |███████████████████▌            | 1.0 MB 7.1 MB/s eta 0:00:01\r\u001b[K     |███████████████████▊            | 1.0 MB 7.1 MB/s eta 0:00:01\r\u001b[K     |███████████████████▉            | 1.0 MB 7.1 MB/s eta 0:00:01\r\u001b[K     |████████████████████            | 1.1 MB 7.1 MB/s eta 0:00:01\r\u001b[K     |████████████████████▎           | 1.1 MB 7.1 MB/s eta 0:00:01\r\u001b[K     |████████████████████▌           | 1.1 MB 7.1 MB/s eta 0:00:01\r\u001b[K     |████████████████████▋           | 1.1 MB 7.1 MB/s eta 0:00:01\r\u001b[K     |████████████████████▉           | 1.1 MB 7.1 MB/s eta 0:00:01\r\u001b[K     |█████████████████████           | 1.1 MB 7.1 MB/s eta 0:00:01\r\u001b[K     |█████████████████████▎          | 1.1 MB 7.1 MB/s eta 0:00:01\r\u001b[K     |█████████████████████▍          | 1.1 MB 7.1 MB/s eta 0:00:01\r\u001b[K     |█████████████████████▋          | 1.1 MB 7.1 MB/s eta 0:00:01\r\u001b[K     |█████████████████████▉          | 1.1 MB 7.1 MB/s eta 0:00:01\r\u001b[K     |██████████████████████          | 1.2 MB 7.1 MB/s eta 0:00:01\r\u001b[K     |██████████████████████▏         | 1.2 MB 7.1 MB/s eta 0:00:01\r\u001b[K     |██████████████████████▍         | 1.2 MB 7.1 MB/s eta 0:00:01\r\u001b[K     |██████████████████████▋         | 1.2 MB 7.1 MB/s eta 0:00:01\r\u001b[K     |██████████████████████▉         | 1.2 MB 7.1 MB/s eta 0:00:01\r\u001b[K     |███████████████████████         | 1.2 MB 7.1 MB/s eta 0:00:01\r\u001b[K     |███████████████████████▏        | 1.2 MB 7.1 MB/s eta 0:00:01\r\u001b[K     |███████████████████████▍        | 1.2 MB 7.1 MB/s eta 0:00:01\r\u001b[K     |███████████████████████▋        | 1.2 MB 7.1 MB/s eta 0:00:01\r\u001b[K     |███████████████████████▉        | 1.2 MB 7.1 MB/s eta 0:00:01\r\u001b[K     |████████████████████████        | 1.3 MB 7.1 MB/s eta 0:00:01\r\u001b[K     |████████████████████████▏       | 1.3 MB 7.1 MB/s eta 0:00:01\r\u001b[K     |████████████████████████▍       | 1.3 MB 7.1 MB/s eta 0:00:01\r\u001b[K     |████████████████████████▋       | 1.3 MB 7.1 MB/s eta 0:00:01\r\u001b[K     |████████████████████████▊       | 1.3 MB 7.1 MB/s eta 0:00:01\r\u001b[K     |█████████████████████████       | 1.3 MB 7.1 MB/s eta 0:00:01\r\u001b[K     |█████████████████████████▏      | 1.3 MB 7.1 MB/s eta 0:00:01\r\u001b[K     |█████████████████████████▍      | 1.3 MB 7.1 MB/s eta 0:00:01\r\u001b[K     |█████████████████████████▌      | 1.3 MB 7.1 MB/s eta 0:00:01\r\u001b[K     |█████████████████████████▊      | 1.4 MB 7.1 MB/s eta 0:00:01\r\u001b[K     |██████████████████████████      | 1.4 MB 7.1 MB/s eta 0:00:01\r\u001b[K     |██████████████████████████▏     | 1.4 MB 7.1 MB/s eta 0:00:01\r\u001b[K     |██████████████████████████▎     | 1.4 MB 7.1 MB/s eta 0:00:01\r\u001b[K     |██████████████████████████▌     | 1.4 MB 7.1 MB/s eta 0:00:01\r\u001b[K     |██████████████████████████▊     | 1.4 MB 7.1 MB/s eta 0:00:01\r\u001b[K     |███████████████████████████     | 1.4 MB 7.1 MB/s eta 0:00:01\r\u001b[K     |███████████████████████████     | 1.4 MB 7.1 MB/s eta 0:00:01\r\u001b[K     |███████████████████████████▎    | 1.4 MB 7.1 MB/s eta 0:00:01\r\u001b[K     |███████████████████████████▌    | 1.4 MB 7.1 MB/s eta 0:00:01\r\u001b[K     |███████████████████████████▊    | 1.5 MB 7.1 MB/s eta 0:00:01\r\u001b[K     |███████████████████████████▉    | 1.5 MB 7.1 MB/s eta 0:00:01\r\u001b[K     |████████████████████████████    | 1.5 MB 7.1 MB/s eta 0:00:01\r\u001b[K     |████████████████████████████▎   | 1.5 MB 7.1 MB/s eta 0:00:01\r\u001b[K     |████████████████████████████▌   | 1.5 MB 7.1 MB/s eta 0:00:01\r\u001b[K     |████████████████████████████▋   | 1.5 MB 7.1 MB/s eta 0:00:01\r\u001b[K     |████████████████████████████▉   | 1.5 MB 7.1 MB/s eta 0:00:01\r\u001b[K     |█████████████████████████████   | 1.5 MB 7.1 MB/s eta 0:00:01\r\u001b[K     |█████████████████████████████▎  | 1.5 MB 7.1 MB/s eta 0:00:01\r\u001b[K     |█████████████████████████████▍  | 1.5 MB 7.1 MB/s eta 0:00:01\r\u001b[K     |█████████████████████████████▋  | 1.6 MB 7.1 MB/s eta 0:00:01\r\u001b[K     |█████████████████████████████▉  | 1.6 MB 7.1 MB/s eta 0:00:01\r\u001b[K     |██████████████████████████████  | 1.6 MB 7.1 MB/s eta 0:00:01\r\u001b[K     |██████████████████████████████▏ | 1.6 MB 7.1 MB/s eta 0:00:01\r\u001b[K     |██████████████████████████████▍ | 1.6 MB 7.1 MB/s eta 0:00:01\r\u001b[K     |██████████████████████████████▋ | 1.6 MB 7.1 MB/s eta 0:00:01\r\u001b[K     |██████████████████████████████▉ | 1.6 MB 7.1 MB/s eta 0:00:01\r\u001b[K     |███████████████████████████████ | 1.6 MB 7.1 MB/s eta 0:00:01\r\u001b[K     |███████████████████████████████▏| 1.6 MB 7.1 MB/s eta 0:00:01\r\u001b[K     |███████████████████████████████▍| 1.6 MB 7.1 MB/s eta 0:00:01\r\u001b[K     |███████████████████████████████▋| 1.7 MB 7.1 MB/s eta 0:00:01\r\u001b[K     |███████████████████████████████▊| 1.7 MB 7.1 MB/s eta 0:00:01\r\u001b[K     |████████████████████████████████| 1.7 MB 7.1 MB/s eta 0:00:01\r\u001b[K     |████████████████████████████████| 1.7 MB 7.1 MB/s \n",
            "\u001b[?25hCollecting pathtools\n",
            "  Downloading pathtools-0.1.2.tar.gz (11 kB)\n",
            "Collecting sentry-sdk>=1.0.0\n",
            "  Downloading sentry_sdk-1.4.3-py2.py3-none-any.whl (139 kB)\n",
            "\u001b[K     |████████████████████████████████| 139 kB 63.6 MB/s \n",
            "\u001b[?25hRequirement already satisfied: PyYAML in /usr/local/lib/python3.7/dist-packages (from wandb) (3.13)\n",
            "Requirement already satisfied: requests<3,>=2.0.0 in /usr/local/lib/python3.7/dist-packages (from wandb) (2.23.0)\n",
            "Requirement already satisfied: psutil>=5.0.0 in /usr/local/lib/python3.7/dist-packages (from wandb) (5.4.8)\n",
            "Collecting yaspin>=1.0.0\n",
            "  Downloading yaspin-2.1.0-py3-none-any.whl (18 kB)\n",
            "Requirement already satisfied: Click!=8.0.0,>=7.0 in /usr/local/lib/python3.7/dist-packages (from wandb) (7.1.2)\n",
            "Collecting shortuuid>=0.5.0\n",
            "  Downloading shortuuid-1.0.1-py3-none-any.whl (7.5 kB)\n",
            "Collecting docker-pycreds>=0.4.0\n",
            "  Downloading docker_pycreds-0.4.0-py2.py3-none-any.whl (9.0 kB)\n",
            "Collecting configparser>=3.8.1\n",
            "  Downloading configparser-5.0.2-py3-none-any.whl (19 kB)\n",
            "Requirement already satisfied: protobuf>=3.12.0 in /usr/local/lib/python3.7/dist-packages (from wandb) (3.17.3)\n",
            "Collecting GitPython>=1.0.0\n",
            "  Downloading GitPython-3.1.24-py3-none-any.whl (180 kB)\n",
            "\u001b[K     |████████████████████████████████| 180 kB 40.7 MB/s \n",
            "\u001b[?25hCollecting subprocess32>=3.5.3\n",
            "  Downloading subprocess32-3.5.4.tar.gz (97 kB)\n",
            "\u001b[K     |████████████████████████████████| 97 kB 7.0 MB/s \n",
            "\u001b[?25hRequirement already satisfied: promise<3,>=2.0 in /usr/local/lib/python3.7/dist-packages (from wandb) (2.3)\n",
            "Requirement already satisfied: six>=1.13.0 in /usr/local/lib/python3.7/dist-packages (from wandb) (1.15.0)\n",
            "Requirement already satisfied: python-dateutil>=2.6.1 in /usr/local/lib/python3.7/dist-packages (from wandb) (2.8.2)\n",
            "Requirement already satisfied: typing-extensions>=3.7.4.3 in /usr/local/lib/python3.7/dist-packages (from GitPython>=1.0.0->wandb) (3.7.4.3)\n",
            "Collecting gitdb<5,>=4.0.1\n",
            "  Downloading gitdb-4.0.7-py3-none-any.whl (63 kB)\n",
            "\u001b[K     |████████████████████████████████| 63 kB 1.5 MB/s \n",
            "\u001b[?25hCollecting smmap<5,>=3.0.1\n",
            "  Downloading smmap-4.0.0-py2.py3-none-any.whl (24 kB)\n",
            "Requirement already satisfied: idna<3,>=2.5 in /usr/local/lib/python3.7/dist-packages (from requests<3,>=2.0.0->wandb) (2.10)\n",
            "Requirement already satisfied: urllib3!=1.25.0,!=1.25.1,<1.26,>=1.21.1 in /usr/local/lib/python3.7/dist-packages (from requests<3,>=2.0.0->wandb) (1.24.3)\n",
            "Requirement already satisfied: chardet<4,>=3.0.2 in /usr/local/lib/python3.7/dist-packages (from requests<3,>=2.0.0->wandb) (3.0.4)\n",
            "Requirement already satisfied: certifi>=2017.4.17 in /usr/local/lib/python3.7/dist-packages (from requests<3,>=2.0.0->wandb) (2021.5.30)\n",
            "Requirement already satisfied: termcolor<2.0.0,>=1.1.0 in /usr/local/lib/python3.7/dist-packages (from yaspin>=1.0.0->wandb) (1.1.0)\n",
            "Building wheels for collected packages: subprocess32, pathtools\n",
            "  Building wheel for subprocess32 (setup.py) ... \u001b[?25l\u001b[?25hdone\n",
            "  Created wheel for subprocess32: filename=subprocess32-3.5.4-py3-none-any.whl size=6502 sha256=e3ba50733f4c56f88c90419a491959e680e375cbf6537be0e7f121aa0d7ae425\n",
            "  Stored in directory: /root/.cache/pip/wheels/50/ca/fa/8fca8d246e64f19488d07567547ddec8eb084e8c0d7a59226a\n",
            "  Building wheel for pathtools (setup.py) ... \u001b[?25l\u001b[?25hdone\n",
            "  Created wheel for pathtools: filename=pathtools-0.1.2-py3-none-any.whl size=8807 sha256=3712aa3f71529dea784e86c083e7d7a33f2f925ca1e8702a51c7a5c7f874c5df\n",
            "  Stored in directory: /root/.cache/pip/wheels/3e/31/09/fa59cef12cdcfecc627b3d24273699f390e71828921b2cbba2\n",
            "Successfully built subprocess32 pathtools\n",
            "Installing collected packages: smmap, gitdb, yaspin, subprocess32, shortuuid, sentry-sdk, pathtools, GitPython, docker-pycreds, configparser, wandb\n",
            "Successfully installed GitPython-3.1.24 configparser-5.0.2 docker-pycreds-0.4.0 gitdb-4.0.7 pathtools-0.1.2 sentry-sdk-1.4.3 shortuuid-1.0.1 smmap-4.0.0 subprocess32-3.5.4 wandb-0.12.5 yaspin-2.1.0\n",
            "Collecting onnxruntime\n",
            "  Downloading onnxruntime-1.9.0-cp37-cp37m-manylinux_2_17_x86_64.manylinux2014_x86_64.whl (4.8 MB)\n",
            "\u001b[K     |████████████████████████████████| 4.8 MB 8.8 MB/s \n",
            "\u001b[?25hRequirement already satisfied: flatbuffers in /usr/local/lib/python3.7/dist-packages (from onnxruntime) (1.12)\n",
            "Requirement already satisfied: protobuf in /usr/local/lib/python3.7/dist-packages (from onnxruntime) (3.17.3)\n",
            "Requirement already satisfied: numpy>=1.16.6 in /usr/local/lib/python3.7/dist-packages (from onnxruntime) (1.19.5)\n",
            "Requirement already satisfied: six>=1.9 in /usr/local/lib/python3.7/dist-packages (from protobuf->onnxruntime) (1.15.0)\n",
            "Installing collected packages: onnxruntime\n",
            "Successfully installed onnxruntime-1.9.0\n",
            "\u001b[K     |████████████████████████████████| 3.6 MB 7.0 MB/s \n",
            "\u001b[K     |████████████████████████████████| 206 kB 51.5 MB/s \n",
            "\u001b[K     |████████████████████████████████| 1.9 MB 28.9 MB/s \n",
            "\u001b[K     |████████████████████████████████| 961 kB 32.5 MB/s \n",
            "\u001b[K     |████████████████████████████████| 3.5 MB 31.8 MB/s \n",
            "\u001b[K     |████████████████████████████████| 63 kB 2.6 MB/s \n",
            "\u001b[?25h  Building wheel for ffmpy (setup.py) ... \u001b[?25l\u001b[?25hdone\n",
            "  Building wheel for flask-cachebuster (setup.py) ... \u001b[?25l\u001b[?25hdone\n"
          ]
        }
      ]
    },
    {
      "cell_type": "code",
      "metadata": {
        "id": "IKb1I4iQKG1n"
      },
      "source": [
        "import os\n",
        "import wandb\n",
        "import pandas as pd\n",
        "import numpy as np\n",
        "import onnxruntime as rt\n",
        "from gradio import gradio as gr"
      ],
      "execution_count": 2,
      "outputs": []
    },
    {
      "cell_type": "markdown",
      "metadata": {
        "id": "DasyfJ54s47n"
      },
      "source": [
        "## Initialize Weights and Biases"
      ]
    },
    {
      "cell_type": "code",
      "metadata": {
        "id": "qoFs9SmJKklQ"
      },
      "source": [
        "os.environ[\"WANDB_API_KEY\"] = \"8e54e1439d9cdf18a32eab0f9d46a9d83fd20f69\""
      ],
      "execution_count": 3,
      "outputs": []
    },
    {
      "cell_type": "code",
      "metadata": {
        "colab": {
          "base_uri": "https://localhost:8080/",
          "height": 50
        },
        "id": "ZCU4l2dKKo2f",
        "outputId": "cee041fc-4096-41e9-c295-74fe927efa89"
      },
      "source": [
        "run = wandb.init(project='usedcar')"
      ],
      "execution_count": 4,
      "outputs": [
        {
          "output_type": "stream",
          "name": "stderr",
          "text": [
            "\u001b[34m\u001b[1mwandb\u001b[0m: Currently logged in as: \u001b[33mmanaranjan\u001b[0m (use `wandb login --relogin` to force relogin)\n"
          ]
        },
        {
          "output_type": "display_data",
          "data": {
            "text/html": [
              "\n",
              "                    Syncing run <strong><a href=\"https://wandb.ai/manaranjan/usedcar/runs/sgyckdfm\" target=\"_blank\">easy-feather-17</a></strong> to <a href=\"https://wandb.ai/manaranjan/usedcar\" target=\"_blank\">Weights & Biases</a> (<a href=\"https://docs.wandb.com/integrations/jupyter.html\" target=\"_blank\">docs</a>).<br/>\n",
              "\n",
              "                "
            ],
            "text/plain": [
              "<IPython.core.display.HTML object>"
            ]
          },
          "metadata": {}
        }
      ]
    },
    {
      "cell_type": "markdown",
      "metadata": {
        "id": "RdCX1PghtE1X"
      },
      "source": [
        "## Download the model and load it"
      ]
    },
    {
      "cell_type": "code",
      "metadata": {
        "id": "-51vWqj3rcI8"
      },
      "source": [
        "ARTIFACT_NAME = 'XGBoost_UserCar:v0'"
      ],
      "execution_count": 5,
      "outputs": []
    },
    {
      "cell_type": "code",
      "metadata": {
        "id": "1Uas_tgxKxB_"
      },
      "source": [
        "#run = wandb.init()\n",
        "artifact = run.use_artifact('manaranjan/usedcar/' + ARTIFACT_NAME, type='model')\n",
        "artifact_dir = artifact.download()"
      ],
      "execution_count": 6,
      "outputs": []
    },
    {
      "cell_type": "code",
      "metadata": {
        "colab": {
          "base_uri": "https://localhost:8080/",
          "height": 35
        },
        "id": "iZeXHJTmLhFz",
        "outputId": "0ca687fe-0f06-4869-c53f-912998c2e486"
      },
      "source": [
        "artifact_dir"
      ],
      "execution_count": 7,
      "outputs": [
        {
          "output_type": "execute_result",
          "data": {
            "application/vnd.google.colaboratory.intrinsic+json": {
              "type": "string"
            },
            "text/plain": [
              "'./artifacts/XGBoost_UserCar:v0'"
            ]
          },
          "metadata": {},
          "execution_count": 7
        }
      ]
    },
    {
      "cell_type": "code",
      "metadata": {
        "colab": {
          "base_uri": "https://localhost:8080/"
        },
        "id": "aQfbD9G0LrxE",
        "outputId": "c149ab30-a0aa-41ac-c0d6-7d73ecd8cd2d"
      },
      "source": [
        "!ls -al  artifacts/XGBoost_UserCar:v0"
      ],
      "execution_count": 8,
      "outputs": [
        {
          "output_type": "stream",
          "name": "stdout",
          "text": [
            "total 300\n",
            "drwxr-xr-x 2 root root   4096 Oct 22 08:50 .\n",
            "drwxr-xr-x 3 root root   4096 Oct 22 08:50 ..\n",
            "-rw-r--r-- 1 root root 296292 Oct 22 08:50 usedcar_xgboost.onnx\n"
          ]
        }
      ]
    },
    {
      "cell_type": "markdown",
      "metadata": {
        "id": "fKLQFEQ21RVc"
      },
      "source": [
        "http://onnx.ai/sklearn-onnx/auto_examples/plot_complex_pipeline.html#example-complex-pipeline"
      ]
    },
    {
      "cell_type": "markdown",
      "metadata": {
        "id": "UxdJ_iLZzEpR"
      },
      "source": [
        "## Columns"
      ]
    },
    {
      "cell_type": "code",
      "metadata": {
        "id": "wQaAV87NzGXX"
      },
      "source": [
        "x_columns = ['KM_Driven', 'Fuel_Type', 'age',\n",
        "              'Transmission', 'Owner_Type', 'Seats',\n",
        "              'make', 'mileage_new', 'engine_new', 'model',\n",
        "              'power_new', 'Location']\n",
        "\n",
        "cat_features = ['Fuel_Type',\n",
        "                'Transmission', 'Owner_Type', 'model',\n",
        "                'make', 'Location']\n",
        "\n",
        "num_features = list(set(x_columns) - set(cat_features))                              "
      ],
      "execution_count": 9,
      "outputs": []
    },
    {
      "cell_type": "markdown",
      "metadata": {
        "id": "cQMqOM2HtMrF"
      },
      "source": [
        "## Implement the predict() function\n",
        "\n",
        "The followng inputs need to be supplied:\n",
        "\n",
        "['KM_Driven', 'Fuel_Type', 'age',\n",
        "'Transmission', 'Owner_Type', 'Seats',\n",
        "'make', 'mileage_new', 'engine_new', 'model',\n",
        "'power_new', 'Location']"
      ]
    },
    {
      "cell_type": "code",
      "metadata": {
        "id": "2i6hvyjZtJzz"
      },
      "source": [
        "def predict_price(make, model, fuelType,\n",
        "                  transmission, engine, power, \n",
        "                  seats, mileage, kmDriven, \n",
        "                  age, ownerType, location):\n",
        "\n",
        "    inputs_dict = {'KM_Driven' : float(kmDriven), \n",
        "              'Fuel_Type': fuelType, \n",
        "              'age': float(age), \n",
        "              'Transmission': transmission, \n",
        "              'Owner_Type': ownerType, \n",
        "              'Seats': float(seats), \n",
        "              'make': make.lower(), \n",
        "              'mileage_new': float(mileage), \n",
        "              'engine_new': float(engine), \n",
        "              'model': model.lower(), \n",
        "              'power_new': float(power), \n",
        "              'Location': location}\n",
        "\n",
        "    df = pd.DataFrame(inputs_dict, index = [0])\n",
        "    print(df)\n",
        "\n",
        "    inputs = {c: df[c].values for c in df.columns}\n",
        "    for c in num_features:\n",
        "        inputs[c] = inputs[c].astype(np.float32)\n",
        "    for k in inputs:\n",
        "        inputs[k] = inputs[k].reshape((inputs[k].shape[0], 1))            \n",
        "  \n",
        "    sess = rt.InferenceSession(artifact_dir + '/usedcar_xgboost.onnx')\n",
        "    pred_onx = sess.run(None, inputs)\n",
        "\n",
        "    predicted_price = float(pred_onx[0][0,0])\n",
        "    return {f'Expected sale price of the car is: INR {np.round(predicted_price, 2)} lakhs' }"
      ],
      "execution_count": 10,
      "outputs": []
    },
    {
      "cell_type": "markdown",
      "metadata": {
        "id": "bruYG5cSuRqR"
      },
      "source": [
        "## Implement UI"
      ]
    },
    {
      "cell_type": "code",
      "metadata": {
        "colab": {
          "base_uri": "https://localhost:8080/",
          "height": 922
        },
        "id": "6wRkrnYHuQp3",
        "outputId": "a4854b63-044a-4735-91bd-720c884d51d8"
      },
      "source": [
        "kmDriven = gr.inputs.Slider(minimum=10, maximum=200, label=\"KM Driven (in 1000s kms)\")\n",
        "mileage = gr.inputs.Slider(minimum=10, maximum=40, label=\"Mileage\")\n",
        "engine = gr.inputs.Slider(minimum=600, maximum=1000, label=\"Engine Capacity (in cc)\")\n",
        "power = gr.inputs.Slider(minimum=40, maximum=100, label=\"Power (in bhp)\")\n",
        "age = gr.inputs.Dropdown(list(range(1, 10)), default=\"1\", label=\"Age of the car ((in years): \")\n",
        "\n",
        "\n",
        "fuelType = gr.inputs.Radio(['Petrol', 'Diesel'], default=\"Petrol\", label=\"Fuel Type\")\n",
        "transmission = gr.inputs.Radio(['Manual', 'Automatic'], default=\"Manual\", label=\"Transmission\")\n",
        "ownerType = gr.inputs.Radio(['First', 'Second'], default=\"First\", label=\"Owner Type\")\n",
        "\n",
        "seats = gr.inputs.Dropdown(list(range(1, 7)), default=\"4\", label=\"Number of Seats\")\n",
        "\n",
        "make = gr.inputs.Radio(['Maruti'], default=\"Maruti\", label=\"Make\")\n",
        "model = gr.inputs.Radio(['Alto', 'Swift', 'Desire', 'Zen'], default=\"Swift\", label=\"Model\")\n",
        "location = gr.inputs.Radio(['Bangalore', 'Hyderabad', 'Mumbai', 'Chennai'], default=\"Bangalore\", label=\"Make\")\n",
        "\n",
        "fare = gr.inputs.Slider(minimum=0, maximum=1000, default=100, label=\"Fare (british pounds)\")\n",
        "\n",
        "gr.Interface(predict_price, [make, model, fuelType, transmission, engine, \n",
        "                             power, seats, mileage, kmDriven, age,\n",
        "                             ownerType, location], \"text\", live=False).launch(debug=True);"
      ],
      "execution_count": 11,
      "outputs": [
        {
          "output_type": "stream",
          "name": "stdout",
          "text": [
            "Colab notebook detected. This cell will run indefinitely so that you can see errors and logs. To turn off, set debug=False in launch().\n",
            "This share link will expire in 72 hours. If you need a permanent link, visit: https://gradio.app/introducing-hosted\n",
            "Running on External URL: https://53835.gradio.app\n"
          ]
        },
        {
          "output_type": "display_data",
          "data": {
            "text/html": [
              "\n",
              "        <iframe\n",
              "            width=\"900\"\n",
              "            height=\"500\"\n",
              "            src=\"https://53835.gradio.app\"\n",
              "            frameborder=\"0\"\n",
              "            allowfullscreen\n",
              "        ></iframe>\n",
              "        "
            ],
            "text/plain": [
              "<IPython.lib.display.IFrame at 0x7f68d6027d10>"
            ]
          },
          "metadata": {}
        },
        {
          "output_type": "stream",
          "name": "stdout",
          "text": [
            "   KM_Driven Fuel_Type  age  ...  model power_new   Location\n",
            "0       57.0    Petrol  4.0  ...  swift      85.0  Bangalore\n",
            "\n",
            "[1 rows x 12 columns]\n"
          ]
        },
        {
          "output_type": "error",
          "ename": "KeyboardInterrupt",
          "evalue": "ignored",
          "traceback": [
            "\u001b[0;31m---------------------------------------------------------------------------\u001b[0m",
            "\u001b[0;31mKeyboardInterrupt\u001b[0m                         Traceback (most recent call last)",
            "\u001b[0;32m<ipython-input-11-2ca5e9c72e05>\u001b[0m in \u001b[0;36m<module>\u001b[0;34m()\u001b[0m\n\u001b[1;32m     20\u001b[0m gr.Interface(predict_price, [make, model, fuelType, transmission, engine, \n\u001b[1;32m     21\u001b[0m                              \u001b[0mpower\u001b[0m\u001b[0;34m,\u001b[0m \u001b[0mseats\u001b[0m\u001b[0;34m,\u001b[0m \u001b[0mmileage\u001b[0m\u001b[0;34m,\u001b[0m \u001b[0mkmDriven\u001b[0m\u001b[0;34m,\u001b[0m \u001b[0mage\u001b[0m\u001b[0;34m,\u001b[0m\u001b[0;34m\u001b[0m\u001b[0;34m\u001b[0m\u001b[0m\n\u001b[0;32m---> 22\u001b[0;31m                              ownerType, location], \"text\", live=False).launch(debug=True);\n\u001b[0m",
            "\u001b[0;32m/usr/local/lib/python3.7/dist-packages/gradio/interface.py\u001b[0m in \u001b[0;36mlaunch\u001b[0;34m(self, inline, inbrowser, share, debug, auth, auth_message, private_endpoint, prevent_thread_lock)\u001b[0m\n\u001b[1;32m    624\u001b[0m             \u001b[0;32mwhile\u001b[0m \u001b[0;32mTrue\u001b[0m\u001b[0;34m:\u001b[0m\u001b[0;34m\u001b[0m\u001b[0;34m\u001b[0m\u001b[0m\n\u001b[1;32m    625\u001b[0m                 \u001b[0msys\u001b[0m\u001b[0;34m.\u001b[0m\u001b[0mstdout\u001b[0m\u001b[0;34m.\u001b[0m\u001b[0mflush\u001b[0m\u001b[0;34m(\u001b[0m\u001b[0;34m)\u001b[0m\u001b[0;34m\u001b[0m\u001b[0;34m\u001b[0m\u001b[0m\n\u001b[0;32m--> 626\u001b[0;31m                 \u001b[0mtime\u001b[0m\u001b[0;34m.\u001b[0m\u001b[0msleep\u001b[0m\u001b[0;34m(\u001b[0m\u001b[0;36m0.1\u001b[0m\u001b[0;34m)\u001b[0m\u001b[0;34m\u001b[0m\u001b[0;34m\u001b[0m\u001b[0m\n\u001b[0m\u001b[1;32m    627\u001b[0m         is_in_interactive_mode = bool(\n\u001b[1;32m    628\u001b[0m             getattr(sys, 'ps1', sys.flags.interactive))\n",
            "\u001b[0;31mKeyboardInterrupt\u001b[0m: "
          ]
        }
      ]
    },
    {
      "cell_type": "markdown",
      "metadata": {
        "id": "vVyDl83g1pvn"
      },
      "source": [
        "## PMML Approach\n",
        "- An alternative approach of using PMML can be demoed. \n",
        "  - https://github.com/SoftwareAG/nyoka"
      ]
    },
    {
      "cell_type": "code",
      "metadata": {
        "id": "9__J8CbySyky"
      },
      "source": [
        "a = np.array([[2.0]]).astype(np.float32)"
      ],
      "execution_count": null,
      "outputs": []
    },
    {
      "cell_type": "code",
      "metadata": {
        "colab": {
          "base_uri": "https://localhost:8080/"
        },
        "id": "xy9bx038tqEi",
        "outputId": "fbb213e0-2997-44b6-ff08-db785b016b9d"
      },
      "source": [
        "a"
      ],
      "execution_count": null,
      "outputs": [
        {
          "data": {
            "text/plain": [
              "array([[2.]], dtype=float32)"
            ]
          },
          "execution_count": 4,
          "metadata": {
            "tags": []
          },
          "output_type": "execute_result"
        }
      ]
    },
    {
      "cell_type": "code",
      "metadata": {
        "colab": {
          "base_uri": "https://localhost:8080/"
        },
        "id": "WZjalIFuvkOw",
        "outputId": "1dedfda9-6a94-4b76-f220-8f741a025a37"
      },
      "source": [
        "a[0,0]"
      ],
      "execution_count": null,
      "outputs": [
        {
          "data": {
            "text/plain": [
              "2.0"
            ]
          },
          "execution_count": 8,
          "metadata": {
            "tags": []
          },
          "output_type": "execute_result"
        }
      ]
    },
    {
      "cell_type": "code",
      "metadata": {
        "id": "tiIMiuGt2-er"
      },
      "source": [
        ""
      ],
      "execution_count": null,
      "outputs": []
    }
  ]
}