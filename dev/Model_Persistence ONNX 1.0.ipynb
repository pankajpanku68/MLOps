{
 "cells": [
  {
   "cell_type": "markdown",
   "metadata": {
    "id": "3VBbPBFRCv2E"
   },
   "source": [
    "## Installing required libraries\n",
    "\n",
    "- onnx library"
   ]
  },
  {
   "cell_type": "code",
   "execution_count": 1,
   "metadata": {
    "colab": {
     "base_uri": "https://localhost:8080/"
    },
    "id": "LFKHk-Hn_r57",
    "outputId": "6ea2496c-1677-45eb-83cc-0baa47e00750"
   },
   "outputs": [
    {
     "name": "stdout",
     "output_type": "stream",
     "text": [
      "Requirement already satisfied: onnx in /opt/anaconda3/envs/mlopslab/lib/python3.8/site-packages (1.10.1)\n",
      "Requirement already satisfied: six in /opt/anaconda3/envs/mlopslab/lib/python3.8/site-packages (from onnx) (1.16.0)\n",
      "Requirement already satisfied: typing-extensions>=3.6.2.1 in /opt/anaconda3/envs/mlopslab/lib/python3.8/site-packages (from onnx) (3.7.4.3)\n",
      "Requirement already satisfied: protobuf in /opt/anaconda3/envs/mlopslab/lib/python3.8/site-packages (from onnx) (3.17.2)\n",
      "Requirement already satisfied: numpy>=1.16.6 in /opt/anaconda3/envs/mlopslab/lib/python3.8/site-packages (from onnx) (1.19.2)\n",
      "Requirement already satisfied: skl2onnx in /opt/anaconda3/envs/mlopslab/lib/python3.8/site-packages (1.10.0)\n",
      "Requirement already satisfied: onnx>=1.2.1 in /opt/anaconda3/envs/mlopslab/lib/python3.8/site-packages (from skl2onnx) (1.10.1)\n",
      "Requirement already satisfied: scipy>=1.0 in /opt/anaconda3/envs/mlopslab/lib/python3.8/site-packages (from skl2onnx) (1.5.2)\n",
      "Requirement already satisfied: onnxconverter-common>=1.7.0 in /opt/anaconda3/envs/mlopslab/lib/python3.8/site-packages (from skl2onnx) (1.8.1)\n",
      "Requirement already satisfied: numpy>=1.15 in /opt/anaconda3/envs/mlopslab/lib/python3.8/site-packages (from skl2onnx) (1.19.2)\n",
      "Requirement already satisfied: scikit-learn>=0.19 in /opt/anaconda3/envs/mlopslab/lib/python3.8/site-packages (from skl2onnx) (1.0.2)\n",
      "Requirement already satisfied: protobuf in /opt/anaconda3/envs/mlopslab/lib/python3.8/site-packages (from skl2onnx) (3.17.2)\n",
      "Requirement already satisfied: typing-extensions>=3.6.2.1 in /opt/anaconda3/envs/mlopslab/lib/python3.8/site-packages (from onnx>=1.2.1->skl2onnx) (3.7.4.3)\n",
      "Requirement already satisfied: six in /opt/anaconda3/envs/mlopslab/lib/python3.8/site-packages (from onnx>=1.2.1->skl2onnx) (1.16.0)\n",
      "Requirement already satisfied: threadpoolctl>=2.0.0 in /opt/anaconda3/envs/mlopslab/lib/python3.8/site-packages (from scikit-learn>=0.19->skl2onnx) (2.1.0)\n",
      "Requirement already satisfied: joblib>=0.11 in /opt/anaconda3/envs/mlopslab/lib/python3.8/site-packages (from scikit-learn>=0.19->skl2onnx) (0.17.0)\n",
      "Requirement already satisfied: onnxruntime in /opt/anaconda3/envs/mlopslab/lib/python3.8/site-packages (1.9.0)\n",
      "Requirement already satisfied: numpy>=1.16.6 in /opt/anaconda3/envs/mlopslab/lib/python3.8/site-packages (from onnxruntime) (1.19.2)\n",
      "Requirement already satisfied: flatbuffers in /opt/anaconda3/envs/mlopslab/lib/python3.8/site-packages (from onnxruntime) (2.0)\n",
      "Requirement already satisfied: protobuf in /opt/anaconda3/envs/mlopslab/lib/python3.8/site-packages (from onnxruntime) (3.17.2)\n",
      "Requirement already satisfied: six>=1.9 in /opt/anaconda3/envs/mlopslab/lib/python3.8/site-packages (from protobuf->onnxruntime) (1.16.0)\n",
      "Requirement already satisfied: onnxmltools in /opt/anaconda3/envs/mlopslab/lib/python3.8/site-packages (1.10.0)\n",
      "Requirement already satisfied: onnx in /opt/anaconda3/envs/mlopslab/lib/python3.8/site-packages (from onnxmltools) (1.10.1)\n",
      "Requirement already satisfied: skl2onnx in /opt/anaconda3/envs/mlopslab/lib/python3.8/site-packages (from onnxmltools) (1.10.0)\n",
      "Requirement already satisfied: numpy in /opt/anaconda3/envs/mlopslab/lib/python3.8/site-packages (from onnxmltools) (1.19.2)\n",
      "Requirement already satisfied: typing-extensions>=3.6.2.1 in /opt/anaconda3/envs/mlopslab/lib/python3.8/site-packages (from onnx->onnxmltools) (3.7.4.3)\n",
      "Requirement already satisfied: protobuf in /opt/anaconda3/envs/mlopslab/lib/python3.8/site-packages (from onnx->onnxmltools) (3.17.2)\n",
      "Requirement already satisfied: six in /opt/anaconda3/envs/mlopslab/lib/python3.8/site-packages (from onnx->onnxmltools) (1.16.0)\n",
      "Requirement already satisfied: scipy>=1.0 in /opt/anaconda3/envs/mlopslab/lib/python3.8/site-packages (from skl2onnx->onnxmltools) (1.5.2)\n",
      "Requirement already satisfied: onnxconverter-common>=1.7.0 in /opt/anaconda3/envs/mlopslab/lib/python3.8/site-packages (from skl2onnx->onnxmltools) (1.8.1)\n",
      "Requirement already satisfied: scikit-learn>=0.19 in /opt/anaconda3/envs/mlopslab/lib/python3.8/site-packages (from skl2onnx->onnxmltools) (1.0.2)\n",
      "Requirement already satisfied: joblib>=0.11 in /opt/anaconda3/envs/mlopslab/lib/python3.8/site-packages (from scikit-learn>=0.19->skl2onnx->onnxmltools) (0.17.0)\n",
      "Requirement already satisfied: threadpoolctl>=2.0.0 in /opt/anaconda3/envs/mlopslab/lib/python3.8/site-packages (from scikit-learn>=0.19->skl2onnx->onnxmltools) (2.1.0)\n"
     ]
    }
   ],
   "source": [
    "!pip install onnx\n",
    "!pip install skl2onnx\n",
    "!pip install onnxruntime\n",
    "!pip install onnxmltools"
   ]
  },
  {
   "cell_type": "code",
   "execution_count": 2,
   "metadata": {
    "id": "c9gF4R9gFds_"
   },
   "outputs": [],
   "source": [
    "import pandas as pd\n",
    "import numpy as np\n",
    "from sklearn.model_selection import train_test_split\n",
    "from sklearn.metrics import r2_score, mean_squared_error\n",
    "from sklearn.compose import ColumnTransformer\n",
    "from sklearn.pipeline import Pipeline\n",
    "from sklearn.impute import SimpleImputer\n",
    "from sklearn.preprocessing import StandardScaler, OneHotEncoder\n",
    "from xgboost import XGBRegressor\n",
    "from onnx.tools.net_drawer import GetPydotGraph, GetOpNodeProducer\n",
    "import onnxruntime as rt\n",
    "from skl2onnx import convert_sklearn, __version__, update_registered_converter\n",
    "from skl2onnx.common.data_types import FloatTensorType, StringTensorType\n",
    "from skl2onnx.common.data_types import Int64TensorType\n",
    "from skl2onnx.common.shape_calculator import calculate_linear_regressor_output_shapes\n",
    "from onnxmltools.convert.xgboost.operator_converters.XGBoost import convert_xgboost  # noqa\n",
    "import pprint\n",
    "import os\n",
    "import wandb"
   ]
  },
  {
   "cell_type": "markdown",
   "metadata": {
    "id": "wH75ib_uC3Gc"
   },
   "source": [
    "## Loading the dataset: Used Car Price Prediction"
   ]
  },
  {
   "cell_type": "code",
   "execution_count": 3,
   "metadata": {
    "id": "E2eCp6WPFjCQ"
   },
   "outputs": [],
   "source": [
    "cars_df = pd.read_csv( \"https://drive.google.com/uc?export=download&id=1V_VBbyjGj6vvD0A90S5Lk0DG90djz28B\" )"
   ]
  },
  {
   "cell_type": "code",
   "execution_count": 4,
   "metadata": {
    "colab": {
     "base_uri": "https://localhost:8080/",
     "height": 411
    },
    "id": "9w_Ywj6SFwrc",
    "outputId": "a8c0b10c-41e4-4f02-d916-e28e288e7892"
   },
   "outputs": [
    {
     "data": {
      "text/html": [
       "<div>\n",
       "<style scoped>\n",
       "    .dataframe tbody tr th:only-of-type {\n",
       "        vertical-align: middle;\n",
       "    }\n",
       "\n",
       "    .dataframe tbody tr th {\n",
       "        vertical-align: top;\n",
       "    }\n",
       "\n",
       "    .dataframe thead th {\n",
       "        text-align: right;\n",
       "    }\n",
       "</style>\n",
       "<table border=\"1\" class=\"dataframe\">\n",
       "  <thead>\n",
       "    <tr style=\"text-align: right;\">\n",
       "      <th></th>\n",
       "      <th>Name</th>\n",
       "      <th>Location</th>\n",
       "      <th>Year</th>\n",
       "      <th>Kilometers_Driven</th>\n",
       "      <th>Fuel_Type</th>\n",
       "      <th>Transmission</th>\n",
       "      <th>Owner_Type</th>\n",
       "      <th>Mileage</th>\n",
       "      <th>Engine</th>\n",
       "      <th>Power</th>\n",
       "      <th>Seats</th>\n",
       "      <th>New_Price</th>\n",
       "      <th>Price</th>\n",
       "      <th>mileage_new</th>\n",
       "      <th>engine_new</th>\n",
       "      <th>power_new</th>\n",
       "      <th>age</th>\n",
       "      <th>make</th>\n",
       "      <th>model</th>\n",
       "      <th>KM_Driven</th>\n",
       "    </tr>\n",
       "  </thead>\n",
       "  <tbody>\n",
       "    <tr>\n",
       "      <th>0</th>\n",
       "      <td>Honda Jazz V</td>\n",
       "      <td>Chennai</td>\n",
       "      <td>2011</td>\n",
       "      <td>46000</td>\n",
       "      <td>Petrol</td>\n",
       "      <td>Manual</td>\n",
       "      <td>First</td>\n",
       "      <td>18.2 kmpl</td>\n",
       "      <td>1199 CC</td>\n",
       "      <td>88.7 bhp</td>\n",
       "      <td>5.0</td>\n",
       "      <td>8.61 Lakh</td>\n",
       "      <td>4.50</td>\n",
       "      <td>18.20</td>\n",
       "      <td>1199</td>\n",
       "      <td>88.70</td>\n",
       "      <td>9</td>\n",
       "      <td>honda</td>\n",
       "      <td>jazz</td>\n",
       "      <td>46</td>\n",
       "    </tr>\n",
       "    <tr>\n",
       "      <th>1</th>\n",
       "      <td>Maruti Ertiga VDI</td>\n",
       "      <td>Chennai</td>\n",
       "      <td>2012</td>\n",
       "      <td>87000</td>\n",
       "      <td>Diesel</td>\n",
       "      <td>Manual</td>\n",
       "      <td>First</td>\n",
       "      <td>20.77 kmpl</td>\n",
       "      <td>1248 CC</td>\n",
       "      <td>88.76 bhp</td>\n",
       "      <td>7.0</td>\n",
       "      <td>NaN</td>\n",
       "      <td>6.00</td>\n",
       "      <td>20.77</td>\n",
       "      <td>1248</td>\n",
       "      <td>88.76</td>\n",
       "      <td>8</td>\n",
       "      <td>maruti</td>\n",
       "      <td>ertiga</td>\n",
       "      <td>87</td>\n",
       "    </tr>\n",
       "    <tr>\n",
       "      <th>2</th>\n",
       "      <td>Nissan Micra Diesel XV</td>\n",
       "      <td>Jaipur</td>\n",
       "      <td>2013</td>\n",
       "      <td>86999</td>\n",
       "      <td>Diesel</td>\n",
       "      <td>Manual</td>\n",
       "      <td>First</td>\n",
       "      <td>23.08 kmpl</td>\n",
       "      <td>1461 CC</td>\n",
       "      <td>63.1 bhp</td>\n",
       "      <td>5.0</td>\n",
       "      <td>NaN</td>\n",
       "      <td>3.50</td>\n",
       "      <td>23.08</td>\n",
       "      <td>1461</td>\n",
       "      <td>63.10</td>\n",
       "      <td>7</td>\n",
       "      <td>nissan</td>\n",
       "      <td>micra</td>\n",
       "      <td>86</td>\n",
       "    </tr>\n",
       "    <tr>\n",
       "      <th>3</th>\n",
       "      <td>Tata Indica Vista Quadrajet LS</td>\n",
       "      <td>Chennai</td>\n",
       "      <td>2012</td>\n",
       "      <td>65932</td>\n",
       "      <td>Diesel</td>\n",
       "      <td>Manual</td>\n",
       "      <td>Second</td>\n",
       "      <td>22.3 kmpl</td>\n",
       "      <td>1248 CC</td>\n",
       "      <td>74 bhp</td>\n",
       "      <td>5.0</td>\n",
       "      <td>NaN</td>\n",
       "      <td>1.95</td>\n",
       "      <td>22.30</td>\n",
       "      <td>1248</td>\n",
       "      <td>74.00</td>\n",
       "      <td>8</td>\n",
       "      <td>tata</td>\n",
       "      <td>indica</td>\n",
       "      <td>65</td>\n",
       "    </tr>\n",
       "    <tr>\n",
       "      <th>4</th>\n",
       "      <td>Maruti Swift VDI BSIV</td>\n",
       "      <td>Jaipur</td>\n",
       "      <td>2015</td>\n",
       "      <td>64424</td>\n",
       "      <td>Diesel</td>\n",
       "      <td>Manual</td>\n",
       "      <td>First</td>\n",
       "      <td>25.2 kmpl</td>\n",
       "      <td>1248 CC</td>\n",
       "      <td>74 bhp</td>\n",
       "      <td>5.0</td>\n",
       "      <td>NaN</td>\n",
       "      <td>5.60</td>\n",
       "      <td>25.20</td>\n",
       "      <td>1248</td>\n",
       "      <td>74.00</td>\n",
       "      <td>5</td>\n",
       "      <td>maruti</td>\n",
       "      <td>swift</td>\n",
       "      <td>64</td>\n",
       "    </tr>\n",
       "  </tbody>\n",
       "</table>\n",
       "</div>"
      ],
      "text/plain": [
       "                             Name Location  Year  ...    make   model KM_Driven\n",
       "0                    Honda Jazz V  Chennai  2011  ...   honda    jazz        46\n",
       "1               Maruti Ertiga VDI  Chennai  2012  ...  maruti  ertiga        87\n",
       "2          Nissan Micra Diesel XV   Jaipur  2013  ...  nissan   micra        86\n",
       "3  Tata Indica Vista Quadrajet LS  Chennai  2012  ...    tata  indica        65\n",
       "4           Maruti Swift VDI BSIV   Jaipur  2015  ...  maruti   swift        64\n",
       "\n",
       "[5 rows x 20 columns]"
      ]
     },
     "execution_count": 4,
     "metadata": {},
     "output_type": "execute_result"
    }
   ],
   "source": [
    "cars_df.head(5)"
   ]
  },
  {
   "cell_type": "code",
   "execution_count": 5,
   "metadata": {
    "id": "sehIIbSBFnD1"
   },
   "outputs": [],
   "source": [
    "x_columns = ['KM_Driven', 'Fuel_Type', 'age',\n",
    "              'Transmission', 'Owner_Type', 'Seats',\n",
    "              'make', 'mileage_new', 'engine_new', 'model',\n",
    "              'power_new', 'Location']\n",
    "## model of the car is not included in the model"
   ]
  },
  {
   "cell_type": "code",
   "execution_count": 6,
   "metadata": {
    "colab": {
     "base_uri": "https://localhost:8080/"
    },
    "id": "-JteBYVPShF3",
    "outputId": "8e6b2325-e5c7-4b44-cad7-e612f2ae909d"
   },
   "outputs": [
    {
     "data": {
      "text/plain": [
       "(3092, 20)"
      ]
     },
     "execution_count": 6,
     "metadata": {},
     "output_type": "execute_result"
    }
   ],
   "source": [
    "cars_df.shape"
   ]
  },
  {
   "cell_type": "code",
   "execution_count": 7,
   "metadata": {
    "id": "pVC9f4QISa2h"
   },
   "outputs": [],
   "source": [
    "cars_df = cars_df[x_columns + ['Price']].dropna()"
   ]
  },
  {
   "cell_type": "code",
   "execution_count": 8,
   "metadata": {
    "colab": {
     "base_uri": "https://localhost:8080/"
    },
    "id": "l_bULZE0SjBf",
    "outputId": "fd935da4-a1d1-4bc5-cdd8-1342079f8918"
   },
   "outputs": [
    {
     "data": {
      "text/plain": [
       "(3091, 13)"
      ]
     },
     "execution_count": 8,
     "metadata": {},
     "output_type": "execute_result"
    }
   ],
   "source": [
    "cars_df.shape"
   ]
  },
  {
   "cell_type": "markdown",
   "metadata": {
    "id": "pJxhn2VxDAdG"
   },
   "source": [
    "## Identifying numerical and categorical features"
   ]
  },
  {
   "cell_type": "code",
   "execution_count": 9,
   "metadata": {
    "id": "PuezADwYFsWd"
   },
   "outputs": [],
   "source": [
    "cat_features = ['Fuel_Type',\n",
    "                'Transmission', 'Owner_Type', 'model',\n",
    "                'make', 'Location']"
   ]
  },
  {
   "cell_type": "code",
   "execution_count": 10,
   "metadata": {
    "id": "IyzKKTogFs_l"
   },
   "outputs": [],
   "source": [
    "num_features = list(set(x_columns) - set(cat_features))"
   ]
  },
  {
   "cell_type": "markdown",
   "metadata": {
    "id": "4tyTBzVVDDrX"
   },
   "source": [
    "## Split the dataset"
   ]
  },
  {
   "cell_type": "code",
   "execution_count": 11,
   "metadata": {
    "id": "-ZXkTZdAkjFT"
   },
   "outputs": [],
   "source": [
    "x_train, x_test, y_train, y_test = train_test_split(cars_df[x_columns],\n",
    "                                                    cars_df.Price,\n",
    "                                                    train_size = 0.8,\n",
    "                                                    random_state = 100)"
   ]
  },
  {
   "cell_type": "markdown",
   "metadata": {
    "id": "ZJBs5b9MDGXr"
   },
   "source": [
    "## Creating the pipeline for the deployment"
   ]
  },
  {
   "cell_type": "markdown",
   "metadata": {
    "id": "oVg1SOyv2UXq"
   },
   "source": [
    "http://onnx.ai/sklearn-onnx/auto_examples/plot_complex_pipeline.html#example-complex-pipeline\n",
    "\n",
    "http://onnx.ai/sklearn-onnx/auto_examples/plot_pipeline_xgboost.html"
   ]
  },
  {
   "cell_type": "code",
   "execution_count": 12,
   "metadata": {
    "id": "hj4QG6V7dZHd"
   },
   "outputs": [],
   "source": [
    "numeric_transformer = Pipeline(steps=[('scaler', StandardScaler())])\n",
    "\n",
    "categorical_transformer = Pipeline(steps=[('onehot', \n",
    "                                           OneHotEncoder(handle_unknown='ignore'))])\n",
    "\n",
    "preprocessor = ColumnTransformer(\n",
    "    transformers=[\n",
    "        ('num', numeric_transformer, num_features),                  \n",
    "        ('cat', categorical_transformer, cat_features),\n",
    "    ])\n",
    "\n",
    "params = { \"n_estimators\": 400,\n",
    "           \"max_depth\": 4,\n",
    "           \"objective\": 'reg:squarederror' }\n",
    "\n",
    "xgb_regressor = XGBRegressor(**params)\n",
    "\n",
    "reg = Pipeline(steps=[('preprocessor', preprocessor),\n",
    "                      ('regressor', xgb_regressor)])           \n",
    "\n",
    "reg.fit(x_train, \n",
    "        y_train)\n",
    "\n",
    "rmse = np.sqrt(mean_squared_error(y_test, \n",
    "                                  reg.predict(x_test)))"
   ]
  },
  {
   "cell_type": "code",
   "execution_count": 13,
   "metadata": {
    "colab": {
     "base_uri": "https://localhost:8080/"
    },
    "id": "_sgMnRCllduv",
    "outputId": "72ccebb3-b567-4451-856b-167ca7e3bf52"
   },
   "outputs": [
    {
     "name": "stdout",
     "output_type": "stream",
     "text": [
      "0.6187140821394929\n"
     ]
    }
   ],
   "source": [
    "print(rmse)"
   ]
  },
  {
   "cell_type": "markdown",
   "metadata": {
    "id": "qeaYg5BnnpYZ"
   },
   "source": [
    "## Creating the ONNX Graph"
   ]
  },
  {
   "cell_type": "code",
   "execution_count": 14,
   "metadata": {
    "colab": {
     "base_uri": "https://localhost:8080/"
    },
    "id": "K2ITr9pDnoey",
    "outputId": "dd8e6c35-ffdc-406c-e390-f41a4bcf08dc"
   },
   "outputs": [
    {
     "name": "stdout",
     "output_type": "stream",
     "text": [
      "[('KM_Driven', FloatTensorType(shape=[None, 1])),\n",
      " ('Fuel_Type', StringTensorType(shape=[None, 1])),\n",
      " ('age', FloatTensorType(shape=[None, 1])),\n",
      " ('Transmission', StringTensorType(shape=[None, 1])),\n",
      " ('Owner_Type', StringTensorType(shape=[None, 1])),\n",
      " ('Seats', FloatTensorType(shape=[None, 1])),\n",
      " ('make', StringTensorType(shape=[None, 1])),\n",
      " ('mileage_new', FloatTensorType(shape=[None, 1])),\n",
      " ('engine_new', FloatTensorType(shape=[None, 1])),\n",
      " ('model', StringTensorType(shape=[None, 1])),\n",
      " ('power_new', FloatTensorType(shape=[None, 1])),\n",
      " ('Location', StringTensorType(shape=[None, 1]))]\n"
     ]
    }
   ],
   "source": [
    "def convert_dataframe_schema(df, drop=None):\n",
    "    inputs = []\n",
    "    for k, v in zip(df.columns, df.dtypes):\n",
    "        if drop is not None and k in drop:\n",
    "            continue\n",
    "        if v == 'int64':\n",
    "            t = FloatTensorType([None, 1])\n",
    "        elif v == 'float64':\n",
    "            t = FloatTensorType([None, 1])\n",
    "        else:\n",
    "            t = StringTensorType([None, 1])\n",
    "        inputs.append((k, t))\n",
    "    return inputs\n",
    "\n",
    "\n",
    "inputs = convert_dataframe_schema(x_train)\n",
    "\n",
    "pprint.pprint(inputs)"
   ]
  },
  {
   "cell_type": "markdown",
   "metadata": {
    "id": "EauvwgaQDe7H"
   },
   "source": [
    "- Registers or updates a converter for a new model so that it can be converted when inserted in a scikit-learn pipeline."
   ]
  },
  {
   "cell_type": "code",
   "execution_count": 15,
   "metadata": {
    "id": "jIv117ZNSWTi"
   },
   "outputs": [],
   "source": [
    "update_registered_converter(\n",
    "    XGBRegressor, 'XGBoostXGBRegressor',\n",
    "    calculate_linear_regressor_output_shapes, convert_xgboost)\n"
   ]
  },
  {
   "cell_type": "markdown",
   "metadata": {
    "id": "le89CDwZDiys"
   },
   "source": [
    "## Converting the pipeline to ONNX format"
   ]
  },
  {
   "cell_type": "code",
   "execution_count": 16,
   "metadata": {
    "id": "cW_p_P5VSgH2"
   },
   "outputs": [],
   "source": [
    "model_onnx = convert_sklearn(\n",
    "    reg, 'pipeline_xgboost',\n",
    "    inputs)"
   ]
  },
  {
   "cell_type": "code",
   "execution_count": 17,
   "metadata": {
    "id": "7XmDJGJ4tRMj"
   },
   "outputs": [],
   "source": [
    "#!rm -r {MODEL_DIR}"
   ]
  },
  {
   "cell_type": "markdown",
   "metadata": {
    "id": "t-5I7IRVDsmD"
   },
   "source": [
    "## Storing the pipeline in a file"
   ]
  },
  {
   "cell_type": "code",
   "execution_count": 18,
   "metadata": {
    "id": "HpslY3GbtttD"
   },
   "outputs": [],
   "source": [
    "MODEL_DIR = \"./usedcarsprod\"\n",
    "MODEL_FILE_NAME = \"usedcar_xgboost.onnx\""
   ]
  },
  {
   "cell_type": "code",
   "execution_count": 19,
   "metadata": {
    "id": "0Cbmr153sQpy"
   },
   "outputs": [],
   "source": [
    "os.mkdir(MODEL_DIR)\n",
    "# And save.\n",
    "with open(MODEL_DIR + \"/\" + MODEL_FILE_NAME, \"wb\") as f:\n",
    "    f.write(model_onnx.SerializeToString())"
   ]
  },
  {
   "cell_type": "code",
   "execution_count": 20,
   "metadata": {
    "colab": {
     "base_uri": "https://localhost:8080/"
    },
    "id": "wgNoj5DeN56O",
    "outputId": "f656e7a7-40a5-4f0e-c27a-b3c1c6e65d74"
   },
   "outputs": [
    {
     "name": "stdout",
     "output_type": "stream",
     "text": [
      "total 20\n",
      "drwxr-xr-x 1 root root 4096 Oct  9 07:21 .\n",
      "drwxr-xr-x 1 root root 4096 Oct  9 07:15 ..\n",
      "drwxr-xr-x 4 root root 4096 Sep 30 17:11 .config\n",
      "drwxr-xr-x 1 root root 4096 Sep 30 17:12 sample_data\n",
      "drwxr-xr-x 2 root root 4096 Oct  9 07:21 usedcarsprod\n"
     ]
    }
   ],
   "source": [
    "!ls -al"
   ]
  },
  {
   "cell_type": "code",
   "execution_count": null,
   "metadata": {
    "colab": {
     "base_uri": "https://localhost:8080/"
    },
    "id": "OCFLW2OZSfXJ",
    "outputId": "02e4e228-cfc1-4bbf-d58e-22f766be50be"
   },
   "outputs": [
    {
     "data": {
      "text/plain": [
       "15"
      ]
     },
     "execution_count": 28,
     "metadata": {},
     "output_type": "execute_result"
    }
   ],
   "source": [
    "import skl2onnx \n",
    "\n",
    "skl2onnx.get_latest_tested_opset_version()"
   ]
  }
 ],
 "metadata": {
  "colab": {
   "collapsed_sections": [],
   "name": "Model Persistence 1.0.ipynb",
   "provenance": []
  },
  "kernelspec": {
   "display_name": "Python 3",
   "language": "python",
   "name": "python3"
  },
  "language_info": {
   "codemirror_mode": {
    "name": "ipython",
    "version": 3
   },
   "file_extension": ".py",
   "mimetype": "text/x-python",
   "name": "python",
   "nbconvert_exporter": "python",
   "pygments_lexer": "ipython3",
   "version": "3.8.5"
  },
  "widgets": {
   "application/vnd.jupyter.widget-state+json": {
    "158103e34c304b938aed9b5b594e3daf": {
     "model_module": "@jupyter-widgets/controls",
     "model_module_version": "1.5.0",
     "model_name": "DescriptionStyleModel",
     "state": {
      "_model_module": "@jupyter-widgets/controls",
      "_model_module_version": "1.5.0",
      "_model_name": "DescriptionStyleModel",
      "_view_count": null,
      "_view_module": "@jupyter-widgets/base",
      "_view_module_version": "1.2.0",
      "_view_name": "StyleView",
      "description_width": ""
     }
    },
    "3cdf77f4c21e45dbb022f87c6bcd0bbd": {
     "model_module": "@jupyter-widgets/base",
     "model_module_version": "1.2.0",
     "model_name": "LayoutModel",
     "state": {
      "_model_module": "@jupyter-widgets/base",
      "_model_module_version": "1.2.0",
      "_model_name": "LayoutModel",
      "_view_count": null,
      "_view_module": "@jupyter-widgets/base",
      "_view_module_version": "1.2.0",
      "_view_name": "LayoutView",
      "align_content": null,
      "align_items": null,
      "align_self": null,
      "border": null,
      "bottom": null,
      "display": null,
      "flex": null,
      "flex_flow": null,
      "grid_area": null,
      "grid_auto_columns": null,
      "grid_auto_flow": null,
      "grid_auto_rows": null,
      "grid_column": null,
      "grid_gap": null,
      "grid_row": null,
      "grid_template_areas": null,
      "grid_template_columns": null,
      "grid_template_rows": null,
      "height": null,
      "justify_content": null,
      "justify_items": null,
      "left": null,
      "margin": null,
      "max_height": null,
      "max_width": null,
      "min_height": null,
      "min_width": null,
      "object_fit": null,
      "object_position": null,
      "order": null,
      "overflow": null,
      "overflow_x": null,
      "overflow_y": null,
      "padding": null,
      "right": null,
      "top": null,
      "visibility": null,
      "width": null
     }
    },
    "54ac1fb3669f460292d6b1b7b526065f": {
     "model_module": "@jupyter-widgets/base",
     "model_module_version": "1.2.0",
     "model_name": "LayoutModel",
     "state": {
      "_model_module": "@jupyter-widgets/base",
      "_model_module_version": "1.2.0",
      "_model_name": "LayoutModel",
      "_view_count": null,
      "_view_module": "@jupyter-widgets/base",
      "_view_module_version": "1.2.0",
      "_view_name": "LayoutView",
      "align_content": null,
      "align_items": null,
      "align_self": null,
      "border": null,
      "bottom": null,
      "display": null,
      "flex": null,
      "flex_flow": null,
      "grid_area": null,
      "grid_auto_columns": null,
      "grid_auto_flow": null,
      "grid_auto_rows": null,
      "grid_column": null,
      "grid_gap": null,
      "grid_row": null,
      "grid_template_areas": null,
      "grid_template_columns": null,
      "grid_template_rows": null,
      "height": null,
      "justify_content": null,
      "justify_items": null,
      "left": null,
      "margin": null,
      "max_height": null,
      "max_width": null,
      "min_height": null,
      "min_width": null,
      "object_fit": null,
      "object_position": null,
      "order": null,
      "overflow": null,
      "overflow_x": null,
      "overflow_y": null,
      "padding": null,
      "right": null,
      "top": null,
      "visibility": null,
      "width": null
     }
    },
    "8a57bf3cf7704b2389322f0151c1ceae": {
     "model_module": "@jupyter-widgets/controls",
     "model_module_version": "1.5.0",
     "model_name": "ProgressStyleModel",
     "state": {
      "_model_module": "@jupyter-widgets/controls",
      "_model_module_version": "1.5.0",
      "_model_name": "ProgressStyleModel",
      "_view_count": null,
      "_view_module": "@jupyter-widgets/base",
      "_view_module_version": "1.2.0",
      "_view_name": "StyleView",
      "bar_color": null,
      "description_width": ""
     }
    },
    "8e9e802449bb46baa1183997f40c3b5d": {
     "model_module": "@jupyter-widgets/controls",
     "model_module_version": "1.5.0",
     "model_name": "FloatProgressModel",
     "state": {
      "_dom_classes": [],
      "_model_module": "@jupyter-widgets/controls",
      "_model_module_version": "1.5.0",
      "_model_name": "FloatProgressModel",
      "_view_count": null,
      "_view_module": "@jupyter-widgets/controls",
      "_view_module_version": "1.5.0",
      "_view_name": "ProgressView",
      "bar_style": "",
      "description": "",
      "description_tooltip": null,
      "layout": "IPY_MODEL_d7b3a733a31440c89090a91e8aca2dcc",
      "max": 1,
      "min": 0,
      "orientation": "horizontal",
      "style": "IPY_MODEL_8a57bf3cf7704b2389322f0151c1ceae",
      "value": 1
     }
    },
    "d7b3a733a31440c89090a91e8aca2dcc": {
     "model_module": "@jupyter-widgets/base",
     "model_module_version": "1.2.0",
     "model_name": "LayoutModel",
     "state": {
      "_model_module": "@jupyter-widgets/base",
      "_model_module_version": "1.2.0",
      "_model_name": "LayoutModel",
      "_view_count": null,
      "_view_module": "@jupyter-widgets/base",
      "_view_module_version": "1.2.0",
      "_view_name": "LayoutView",
      "align_content": null,
      "align_items": null,
      "align_self": null,
      "border": null,
      "bottom": null,
      "display": null,
      "flex": null,
      "flex_flow": null,
      "grid_area": null,
      "grid_auto_columns": null,
      "grid_auto_flow": null,
      "grid_auto_rows": null,
      "grid_column": null,
      "grid_gap": null,
      "grid_row": null,
      "grid_template_areas": null,
      "grid_template_columns": null,
      "grid_template_rows": null,
      "height": null,
      "justify_content": null,
      "justify_items": null,
      "left": null,
      "margin": null,
      "max_height": null,
      "max_width": null,
      "min_height": null,
      "min_width": null,
      "object_fit": null,
      "object_position": null,
      "order": null,
      "overflow": null,
      "overflow_x": null,
      "overflow_y": null,
      "padding": null,
      "right": null,
      "top": null,
      "visibility": null,
      "width": null
     }
    },
    "f65dd33605c843a8916b5f57ad87edf3": {
     "model_module": "@jupyter-widgets/controls",
     "model_module_version": "1.5.0",
     "model_name": "VBoxModel",
     "state": {
      "_dom_classes": [],
      "_model_module": "@jupyter-widgets/controls",
      "_model_module_version": "1.5.0",
      "_model_name": "VBoxModel",
      "_view_count": null,
      "_view_module": "@jupyter-widgets/controls",
      "_view_module_version": "1.5.0",
      "_view_name": "VBoxView",
      "box_style": "",
      "children": [
       "IPY_MODEL_fc6d0b217ac146e3aa5f8974dcaba423",
       "IPY_MODEL_8e9e802449bb46baa1183997f40c3b5d"
      ],
      "layout": "IPY_MODEL_54ac1fb3669f460292d6b1b7b526065f"
     }
    },
    "fc6d0b217ac146e3aa5f8974dcaba423": {
     "model_module": "@jupyter-widgets/controls",
     "model_module_version": "1.5.0",
     "model_name": "LabelModel",
     "state": {
      "_dom_classes": [],
      "_model_module": "@jupyter-widgets/controls",
      "_model_module_version": "1.5.0",
      "_model_name": "LabelModel",
      "_view_count": null,
      "_view_module": "@jupyter-widgets/controls",
      "_view_module_version": "1.5.0",
      "_view_name": "LabelView",
      "description": "",
      "description_tooltip": null,
      "layout": "IPY_MODEL_3cdf77f4c21e45dbb022f87c6bcd0bbd",
      "placeholder": "​",
      "style": "IPY_MODEL_158103e34c304b938aed9b5b594e3daf",
      "value": " 0.29MB of 0.29MB uploaded (0.00MB deduped)\r"
     }
    }
   }
  }
 },
 "nbformat": 4,
 "nbformat_minor": 1
}
